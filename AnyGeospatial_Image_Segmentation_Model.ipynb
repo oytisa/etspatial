{
  "nbformat": 4,
  "nbformat_minor": 0,
  "metadata": {
    "colab": {
      "provenance": [],
      "authorship_tag": "ABX9TyN/tU0wF8xgsAgZobNPMqVR",
      "include_colab_link": true
    },
    "kernelspec": {
      "name": "python3",
      "display_name": "Python 3"
    },
    "language_info": {
      "name": "python"
    }
  },
  "cells": [
    {
      "cell_type": "markdown",
      "metadata": {
        "id": "view-in-github",
        "colab_type": "text"
      },
      "source": [
        "<a href=\"https://colab.research.google.com/github/oytisa/etspatial/blob/main/AnyGeospatial_Image_Segmentation_Model.ipynb\" target=\"_parent\"><img src=\"https://colab.research.google.com/assets/colab-badge.svg\" alt=\"Open In Colab\"/></a>"
      ]
    },
    {
      "cell_type": "markdown",
      "source": [
        "**Discover the potential of Meta AI’s Segment Anything Model (SAM) in this comprehensive tutorial. We dive into SAM, an efficient and promptable model for image segmentation. **"
      ],
      "metadata": {
        "id": "44gcKsEv7TLX"
      }
    },
    {
      "cell_type": "code",
      "execution_count": null,
      "metadata": {
        "id": "unxN8OOW2b_A"
      },
      "outputs": [],
      "source": [
        "# Install dependencies\n",
        "%pip install segment-geospatial leafmap localtileserver"
      ]
    },
    {
      "cell_type": "code",
      "execution_count": null,
      "metadata": {
        "id": "GtNCPPJ9AWu5"
      },
      "outputs": [],
      "source": [
        "import os\n",
        "import leafmap\n",
        "import torch\n",
        "from samgeo import SamGeo, tms_to_geotiff"
      ]
    },
    {
      "cell_type": "code",
      "execution_count": null,
      "metadata": {
        "id": "iqyo4SahAWu6"
      },
      "outputs": [],
      "source": [
        "m = leafmap.Map(center=[7.10049, 38.62629], zoom=19)\n",
        "m.add_basemap('SATELLITE')\n",
        "m"
      ]
    },
    {
      "cell_type": "code",
      "source": [
        "# Pan and zoom the map to select the area of interest. Use the draw tools to draw a polygon or rectangle on the map\n",
        "bbox = m.user_roi_bounds()\n",
        "print(bbox)"
      ],
      "metadata": {
        "id": "411-1zS73atq"
      },
      "execution_count": null,
      "outputs": []
    },
    {
      "cell_type": "code",
      "source": [
        "image = 'satellite2.tif'\n",
        "# image = '/path/to/your/own/image.tif'"
      ],
      "metadata": {
        "id": "XDLEfMH8392u"
      },
      "execution_count": null,
      "outputs": []
    },
    {
      "cell_type": "code",
      "source": [
        "tms_to_geotiff(output=image, bbox=bbox, zoom=20, source='Satellite', overwrite=True)"
      ],
      "metadata": {
        "id": "qU-QCslI3_S3"
      },
      "execution_count": null,
      "outputs": []
    },
    {
      "cell_type": "code",
      "source": [
        "m.add_raster(image, layer_name='Image')\n",
        "m"
      ],
      "metadata": {
        "id": "m0MphXgP4Kaf"
      },
      "execution_count": null,
      "outputs": []
    },
    {
      "cell_type": "code",
      "source": [
        "out_dir = os.path.join(os.path.expanduser('~'), 'Downloads')\n",
        "checkpoint = os.path.join(out_dir, 'sam_vit_h_4b8939.pth')"
      ],
      "metadata": {
        "id": "qvk-3dGT4OX_"
      },
      "execution_count": null,
      "outputs": []
    },
    {
      "cell_type": "code",
      "source": [
        "device = 'cuda' if torch.cuda.is_available() else 'cpu'\n",
        "sam = SamGeo(\n",
        "    checkpoint=checkpoint,\n",
        "    model_type='vit_h',\n",
        "    device=device,\n",
        "    erosion_kernel=(3, 3),\n",
        "    mask_multiplier=255,\n",
        "    sam_kwargs=None,\n",
        ")"
      ],
      "metadata": {
        "id": "7B1QTkX04URY"
      },
      "execution_count": null,
      "outputs": []
    },
    {
      "cell_type": "code",
      "source": [
        "#Segment the image\n",
        "mask = 'segment.tiff'\n",
        "sam.generate(image, mask)"
      ],
      "metadata": {
        "id": "TcqVBQ7s4ZUH"
      },
      "execution_count": null,
      "outputs": []
    },
    {
      "cell_type": "code",
      "source": [
        "#save as geopackage\n",
        "vector = 'segment.gpkg'\n",
        "sam.tiff_to_gpkg(mask, vector, simplify_tolerance=None)"
      ],
      "metadata": {
        "id": "A0CjOxLF4jrY"
      },
      "execution_count": null,
      "outputs": []
    },
    {
      "cell_type": "code",
      "source": [
        "#if to save as shapefile\n",
        "shapefile = 'segment.shp'\n",
        "sam.tiff_to_vector(mask, shapefile)"
      ],
      "metadata": {
        "id": "1C6CmIWo4wgX"
      },
      "execution_count": null,
      "outputs": []
    },
    {
      "cell_type": "code",
      "source": [
        "#visualize the segmentation result\n",
        "style = {\n",
        "    'color': '#3388ff',\n",
        "    'weight': 2,\n",
        "    'fillColor': '#7c4185',\n",
        "    'fillOpacity': 0.5,\n",
        "}\n",
        "m.add_vector(vector, layer_name='Vector', style=style)\n",
        "m"
      ],
      "metadata": {
        "id": "VK52lrse46zU"
      },
      "execution_count": null,
      "outputs": []
    }
  ]
}